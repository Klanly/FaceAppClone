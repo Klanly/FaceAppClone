{
  "nbformat": 4,
  "nbformat_minor": 0,
  "metadata": {
    "colab": {
      "name": "Copy of 2. Face_Editing_Notebook.ipynb",
      "provenance": [],
      "collapsed_sections": [],
      "toc_visible": true
    },
    "kernelspec": {
      "name": "python3",
      "display_name": "Python 3"
    },
    "accelerator": "GPU"
  },
  "cells": [
    {
      "cell_type": "code",
      "metadata": {
        "id": "tWXQFcZn-FzY",
        "colab_type": "code",
        "colab": {}
      },
      "source": [
        "import tensorflow as tf\n",
        "tf.VERSION"
      ],
      "execution_count": 0,
      "outputs": []
    },
    {
      "cell_type": "code",
      "metadata": {
        "id": "79zSyWeEKNLz",
        "colab_type": "code",
        "colab": {}
      },
      "source": [
        "!nvcc --version"
      ],
      "execution_count": 0,
      "outputs": []
    },
    {
      "cell_type": "code",
      "metadata": {
        "id": "xGOXyy7WEHPK",
        "colab_type": "code",
        "colab": {}
      },
      "source": [
        "!pip install --upgrade tensorflow-gpu==1.12.2"
      ],
      "execution_count": 0,
      "outputs": []
    },
    {
      "cell_type": "code",
      "metadata": {
        "id": "shFINUNNFJXf",
        "colab_type": "code",
        "colab": {}
      },
      "source": [
        "!wget https://developer.nvidia.com/compute/cuda/9.0/Prod/local_installers/cuda-repo-ubuntu1604-9-0-local_9.0.176-1_amd64-deb\n",
        "!dpkg -i cuda-repo-ubuntu1604-9-0-local_9.0.176-1_amd64-deb\n",
        "!apt-key add /var/cuda-repo-9-0-local/7fa2af80.pub\n",
        "!apt-get update\n",
        "!apt-get install cuda=9.0.176-1\n",
        "!echo ****** Cuda reinstall completed. Restart runtime now! *******"
      ],
      "execution_count": 0,
      "outputs": []
    },
    {
      "cell_type": "code",
      "metadata": {
        "id": "Se40P4Dq-cu0",
        "colab_type": "code",
        "colab": {}
      },
      "source": [
        "import tensorflow as tf\n",
        "print(\"Now running TensorFlow version %s on Colab!\" %tf.VERSION)\n",
        "assert tf.VERSION == '1.12.2'"
      ],
      "execution_count": 0,
      "outputs": []
    },
    {
      "cell_type": "code",
      "metadata": {
        "id": "Zgvm-_nr-fM8",
        "colab_type": "code",
        "colab": {}
      },
      "source": [
        "!nvcc --version"
      ],
      "execution_count": 0,
      "outputs": []
    },
    {
      "cell_type": "code",
      "metadata": {
        "id": "ei2940NwDoHE",
        "colab_type": "code",
        "colab": {}
      },
      "source": [
        "!git clone https://github.com/tr1pzz/InterFaceGAN.git"
      ],
      "execution_count": 0,
      "outputs": []
    },
    {
      "cell_type": "code",
      "metadata": {
        "id": "Mu-9rwLM-hdw",
        "colab_type": "code",
        "colab": {}
      },
      "source": [
        "cd /content/InterFaceGAN/"
      ],
      "execution_count": 0,
      "outputs": []
    },
    {
      "cell_type": "code",
      "metadata": {
        "id": "VumYqzzx_V-3",
        "colab_type": "code",
        "colab": {}
      },
      "source": [
        "!gdown https://drive.google.com/uc?id=1MEGjdvVpUsu1jB4zrXZN7Y4kBBOzizDQ\n",
        "!mv /content/InterFaceGAN/karras2019stylegan-ffhq-1024x1024.pkl /content/InterFaceGAN/models/pretrain/karras2019stylegan-ffhq-1024x1024.pkl"
      ],
      "execution_count": 0,
      "outputs": []
    },
    {
      "cell_type": "code",
      "metadata": {
        "id": "G107GNIrRCwO",
        "colab_type": "code",
        "colab": {}
      },
      "source": [
        "import numpy as np\n",
        "final_w_vectors = np.load('/content/output_vectors.npy')\n",
        "\n",
        "print(\"%d latent vectors of shape %s loaded from %s!\" %(final_w_vectors.shape[0], str(final_w_vectors.shape[1:]), 'output_vectors.npy'))"
      ],
      "execution_count": 0,
      "outputs": []
    },
    {
      "cell_type": "code",
      "metadata": {
        "id": "02OJnoKiczjy",
        "colab_type": "code",
        "colab": {}
      },
      "source": [
        "latent_direction = 'age'     #### Pick one of ['age', 'eyeglasses', 'gender', 'pose', 'smile']\n",
        "morph_strength = 3           # Controls how strongly we push the face into a certain latent direction (try 1-5)\n",
        "nr_interpolation_steps = 48  # The amount of intermediate steps/frames to render along the interpolation path"
      ],
      "execution_count": 0,
      "outputs": []
    },
    {
      "cell_type": "code",
      "metadata": {
        "id": "RDksv9CdjrB3",
        "colab_type": "code",
        "colab": {}
      },
      "source": [
        "boundary_file = 'stylegan_ffhq_%s_w_boundary.npy' %latent_direction\n",
        "\n",
        "print(\"Ready to start manipulating faces in the ** %s ** direction!\" %latent_direction)\n",
        "print(\"Interpolation from %d to %d with %d intermediate frames.\" %(-morph_strength, morph_strength, nr_interpolation_steps))\n",
        "print(\"\\nLoading latent directions from %s\" %boundary_file)"
      ],
      "execution_count": 0,
      "outputs": []
    },
    {
      "cell_type": "code",
      "metadata": {
        "id": "8-QG5vukdX0j",
        "colab_type": "code",
        "colab": {}
      },
      "source": [
        "import subprocess\n",
        "return_code = subprocess.call(\"rm -r results/%s\" %latent_direction, shell=True)\n",
        "\n",
        "run_command = \"python edit.py \\\n",
        "      -m stylegan_ffhq \\\n",
        "      -b boundaries/stylegan_ffhq_%s_w_boundary.npy \\\n",
        "      -s Wp \\\n",
        "      -i '/content/output_vectors.npy' \\\n",
        "      -o results/%s \\\n",
        "      --start_distance %.2f \\\n",
        "      --end_distance %.2f \\\n",
        "      --steps=%d\" %(latent_direction, latent_direction, -morph_strength, morph_strength, nr_interpolation_steps)\n",
        "\n",
        "\n",
        "print(\"Running latent interpolations... This should not take longer than ~1 minute\")\n",
        "print(\"Running: %s\" %run_command)\n",
        "return_code = subprocess.call(run_command, shell=True)\n",
        "\n",
        "if not return_code:\n",
        "  print(\"Latent interpolation successfully dumped to disk!\")\n",
        "else:\n",
        "  print(\"Something went wrong, try re-executing this cell...\")"
      ],
      "execution_count": 0,
      "outputs": []
    },
    {
      "cell_type": "code",
      "metadata": {
        "id": "pLS9GaSt_lZ1",
        "colab_type": "code",
        "colab": {}
      },
      "source": [
        "if 0:\n",
        "  !python edit.py \\\n",
        "    -m stylegan_ffhq \\\n",
        "    -b boundaries/stylegan_ffhq_age_w_boundary.npy \\\n",
        "    -s Wp \\\n",
        "    -i '/content/output_vectors.npy' \\\n",
        "    -o results/age \\\n",
        "    --start_distance -3.0 \\\n",
        "    --end_distance 3.0 \\\n",
        "    --steps=48"
      ],
      "execution_count": 0,
      "outputs": []
    },
    {
      "cell_type": "code",
      "metadata": {
        "id": "LD0oVlmfATur",
        "colab_type": "code",
        "colab": {}
      },
      "source": [
        "image_folder = '/content/InterFaceGAN/results/%s' %latent_direction\n",
        "video_fps = 12.\n",
        "latent_direction"
      ],
      "execution_count": 0,
      "outputs": []
    },
    {
      "cell_type": "code",
      "metadata": {
        "id": "2pgBNXQ0Tf4k",
        "colab_type": "code",
        "colab": {}
      },
      "source": [
        "from moviepy.editor import *\n",
        "import cv2\n",
        "\n",
        "out_path = '/content/output_videos/'\n",
        "\n",
        "images = [img_path for img_path in sorted(os.listdir(image_folder)) if '.jpg' in img_path]\n",
        "os.makedirs(out_path, exist_ok=True)\n",
        "\n",
        "prev_id = None\n",
        "img_sets = []\n",
        "for img_path in images:\n",
        "  img_id = img_path.split('_')[0]\n",
        "  if img_id == prev_id: #append\n",
        "    img_sets[-1].append(img_path)\n",
        "    \n",
        "  else: #start a new img set\n",
        "    img_sets.append([])\n",
        "    img_sets[-1].append(img_path)\n",
        "  prev_id = img_id\n",
        "\n",
        "print(\"Found %d image sets!\\n\" %len(img_sets))\n",
        "if image_folder[-1] != '/':\n",
        "  image_folder += '/'\n",
        "\n",
        "def make_video(images, vid_name):\n",
        "    fourcc = cv2.VideoWriter_fourcc(*'mp4v')\n",
        "    video = cv2.VideoWriter(vid_name, fourcc, video_fps, (1024, 1024))\n",
        "    gen = {}\n",
        "    for img in images:\n",
        "      video.write(img)\n",
        "    video.release()\n",
        "    print('finished '+ vid_name)\n",
        "    \n",
        "    \n",
        "for i in range(len(img_sets)):\n",
        "  print(\"############################\")\n",
        "  print(\"\\nGenerating video %d...\" %i)\n",
        "  set_images = []\n",
        "  vid_name = out_path + 'out_video_%s_%02d.mp4' %(latent_direction,i)\n",
        "  for img_path in img_sets[i]:\n",
        "    set_images.append(cv2.imread(image_folder + img_path))\n",
        "\n",
        "  set_images.extend(reversed(set_images))\n",
        "  make_video(set_images, vid_name)"
      ],
      "execution_count": 0,
      "outputs": []
    },
    {
      "cell_type": "code",
      "metadata": {
        "id": "6kHw182YT_v6",
        "colab_type": "code",
        "colab": {}
      },
      "source": [
        "video_file_to_show = 0\n",
        "\n",
        "clip = VideoFileClip('/content/output_videos/out_video_%s_%02d.mp4' %(latent_direction, video_file_to_show))\n",
        "clip.ipython_display(height=512, autoplay=1, loop=1)"
      ],
      "execution_count": 0,
      "outputs": []
    }
  ]
}